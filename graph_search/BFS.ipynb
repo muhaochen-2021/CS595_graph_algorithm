{
 "cells": [
  {
   "cell_type": "code",
   "execution_count": 2,
   "id": "cc8e9f3f",
   "metadata": {},
   "outputs": [],
   "source": [
    "# define a tree\n",
    "class Tree:\n",
    "    def __init__(self,data):\n",
    "        self.data = data\n",
    "        self.children = []\n",
    "    \n",
    "    def get(self):\n",
    "        return self.data\n",
    "    \n",
    "    def addchild(self,child):\n",
    "        self.children.append(child)\n",
    "    \n",
    "    def getchildren(self):\n",
    "        return self.children"
   ]
  },
  {
   "cell_type": "code",
   "execution_count": 3,
   "id": "41e45528",
   "metadata": {},
   "outputs": [],
   "source": [
    "# create a tree\n",
    "tree = Tree(0)\n",
    "\n",
    "# add nodes, level - 1\n",
    "tree.addchild(Tree(1))\n",
    "tree.addchild(Tree(2))\n",
    "tree.addchild(Tree(3))\n",
    "children = tree.getchildren()\n",
    "\n",
    "# add nodes, level - 2 \n",
    "children[0].addchild(Tree(4))\n",
    "children[0].addchild(Tree(5))\n",
    "children[1].addchild(Tree(6))\n",
    "children[1].addchild(Tree(7))\n",
    "children[2].addchild(Tree(8))\n",
    "children[2].addchild(Tree(9))"
   ]
  },
  {
   "cell_type": "code",
   "execution_count": 6,
   "id": "f4dde462",
   "metadata": {},
   "outputs": [],
   "source": [
    "# BFS with queue - define queue\n",
    "class Queue():\n",
    "    def __init__(self):\n",
    "        self.__list = list()\n",
    "        \n",
    "    def isEmpty(self):\n",
    "        return self.__list == []\n",
    "    \n",
    "    def push(self,data):\n",
    "        self.__list.append(data)\n",
    "        \n",
    "    def pop(self):\n",
    "        if self.isEmpty():\n",
    "            return False\n",
    "        return self.__list.pop(0)"
   ]
  },
  {
   "cell_type": "code",
   "execution_count": 25,
   "id": "555dede6",
   "metadata": {},
   "outputs": [],
   "source": [
    "# BFS with queue - main\n",
    "def BFS_Queue(tree):\n",
    "    q_list = Queue()\n",
    "    q_list.push(tree)\n",
    "    search_list = []\n",
    "    while not q_list.isEmpty():\n",
    "        node = q_list.pop()\n",
    "        search_list.append(node.get())\n",
    "        for node_children in node.getchildren():\n",
    "            q_list.push(node_children)\n",
    "    return search_list"
   ]
  },
  {
   "cell_type": "code",
   "execution_count": 26,
   "id": "83a863f4",
   "metadata": {},
   "outputs": [
    {
     "data": {
      "text/plain": [
       "[0, 1, 2, 3, 4, 5, 6, 7, 8, 9]"
      ]
     },
     "execution_count": 26,
     "metadata": {},
     "output_type": "execute_result"
    }
   ],
   "source": [
    "# test\n",
    "BFS_Queue(tree)"
   ]
  },
  {
   "cell_type": "code",
   "execution_count": 47,
   "id": "8d1fe406",
   "metadata": {},
   "outputs": [],
   "source": [
    "# BFS with recursion\n",
    "def BFS_recursion(gen, index=0, nextGen=[], result=[]):\n",
    "    \n",
    "    if type(gen) == Tree:\n",
    "        gen = [gen]\n",
    "    result.append(gen[index].data)\n",
    "    \n",
    "    children = gen[index].getchildren()\n",
    "    \n",
    "    nextGen += children\n",
    "    if index == len(gen)-1:\n",
    "        if nextGen == []:\n",
    "            return\n",
    "        else:\n",
    "            gen = nextGen\n",
    "            nextGen = []\n",
    "            index = 0\n",
    "    else:\n",
    "        index += 1\n",
    "    BFS_recursion(gen, index, nextGen,result)\n",
    "    return result"
   ]
  },
  {
   "cell_type": "code",
   "execution_count": 48,
   "id": "b29fb315",
   "metadata": {},
   "outputs": [
    {
     "data": {
      "text/plain": [
       "[0, 1, 2, 3, 4, 5, 6, 7, 8, 9]"
      ]
     },
     "execution_count": 48,
     "metadata": {},
     "output_type": "execute_result"
    }
   ],
   "source": [
    "BFS_recursion(tree)"
   ]
  },
  {
   "cell_type": "code",
   "execution_count": null,
   "id": "7b1f8d20",
   "metadata": {},
   "outputs": [],
   "source": []
  }
 ],
 "metadata": {
  "kernelspec": {
   "display_name": "Python 3",
   "language": "python",
   "name": "python3"
  },
  "language_info": {
   "codemirror_mode": {
    "name": "ipython",
    "version": 3
   },
   "file_extension": ".py",
   "mimetype": "text/x-python",
   "name": "python",
   "nbconvert_exporter": "python",
   "pygments_lexer": "ipython3",
   "version": "3.8.8"
  }
 },
 "nbformat": 4,
 "nbformat_minor": 5
}
