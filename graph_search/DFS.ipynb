{
 "cells": [
  {
   "cell_type": "code",
   "execution_count": 1,
   "id": "91945ec0",
   "metadata": {},
   "outputs": [],
   "source": [
    "# define a tree\n",
    "class Tree:\n",
    "    def __init__(self,data):\n",
    "        self.data = data\n",
    "        self.children = []\n",
    "    \n",
    "    def get(self):\n",
    "        return self.data\n",
    "    \n",
    "    def addchild(self,child):\n",
    "        self.children.append(child)\n",
    "    \n",
    "    def getchildren(self):\n",
    "        return self.children"
   ]
  },
  {
   "cell_type": "code",
   "execution_count": 2,
   "id": "a0ab845c",
   "metadata": {},
   "outputs": [],
   "source": [
    "# create a tree\n",
    "tree = Tree(0)\n",
    "\n",
    "# add nodes, level - 1\n",
    "tree.addchild(Tree(1))\n",
    "tree.addchild(Tree(2))\n",
    "tree.addchild(Tree(3))\n",
    "children = tree.getchildren()\n",
    "\n",
    "# add nodes, level - 2 \n",
    "children[0].addchild(Tree(4))\n",
    "children[0].addchild(Tree(5))\n",
    "children[1].addchild(Tree(6))\n",
    "children[1].addchild(Tree(7))\n",
    "children[2].addchild(Tree(8))\n",
    "children[2].addchild(Tree(9))"
   ]
  },
  {
   "cell_type": "code",
   "execution_count": 9,
   "id": "c638665f",
   "metadata": {},
   "outputs": [],
   "source": [
    "# DFS with Stack - define Stack\n",
    "class Stack():\n",
    "    def __init__(self):\n",
    "        self.__list = list()\n",
    "        \n",
    "    def isEmpty(self):\n",
    "        return self.__list == []\n",
    "    \n",
    "    def push(self,data):\n",
    "        self.__list.append(data)\n",
    "        \n",
    "    def pop(self):\n",
    "        if self.isEmpty():\n",
    "            return False\n",
    "        return self.__list.pop(-1)"
   ]
  },
  {
   "cell_type": "code",
   "execution_count": 20,
   "id": "3925908f",
   "metadata": {},
   "outputs": [],
   "source": [
    "# DFS with stack - main\n",
    "def DFS_Stack(tree):\n",
    "    q_list = Stack()\n",
    "    q_list.push(tree)\n",
    "    search_list = []\n",
    "    while not q_list.isEmpty():\n",
    "        node = q_list.pop()\n",
    "        search_list.append(node.get())\n",
    "        children = node.getchildren()\n",
    "        children = reversed(children)\n",
    "        for node_children in children:\n",
    "            q_list.push(node_children)\n",
    "    return search_list"
   ]
  },
  {
   "cell_type": "code",
   "execution_count": 21,
   "id": "8db3fa12",
   "metadata": {},
   "outputs": [
    {
     "data": {
      "text/plain": [
       "[0, 1, 4, 5, 2, 6, 7, 3, 8, 9]"
      ]
     },
     "execution_count": 21,
     "metadata": {},
     "output_type": "execute_result"
    }
   ],
   "source": [
    "DFS_Stack(tree)"
   ]
  },
  {
   "cell_type": "code",
   "execution_count": 25,
   "id": "ab300e66",
   "metadata": {},
   "outputs": [],
   "source": [
    "# DFS with recursion\n",
    "def DFS_recursion(tree,result=[]):\n",
    "    result.append(tree.data)\n",
    "    children = tree.getchildren()\n",
    "    for c in children:\n",
    "        DFS_recursion(c,result)\n",
    "    return result"
   ]
  },
  {
   "cell_type": "code",
   "execution_count": 26,
   "id": "341124c6",
   "metadata": {},
   "outputs": [
    {
     "data": {
      "text/plain": [
       "[0, 1, 4, 5, 2, 6, 7, 3, 8, 9]"
      ]
     },
     "execution_count": 26,
     "metadata": {},
     "output_type": "execute_result"
    }
   ],
   "source": [
    "DFS_recursion(tree)"
   ]
  },
  {
   "cell_type": "code",
   "execution_count": null,
   "id": "3c22c559",
   "metadata": {},
   "outputs": [],
   "source": []
  }
 ],
 "metadata": {
  "kernelspec": {
   "display_name": "Python 3",
   "language": "python",
   "name": "python3"
  },
  "language_info": {
   "codemirror_mode": {
    "name": "ipython",
    "version": 3
   },
   "file_extension": ".py",
   "mimetype": "text/x-python",
   "name": "python",
   "nbconvert_exporter": "python",
   "pygments_lexer": "ipython3",
   "version": "3.8.8"
  }
 },
 "nbformat": 4,
 "nbformat_minor": 5
}
